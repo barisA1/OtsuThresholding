{
 "cells": [
  {
   "cell_type": "code",
   "execution_count": null,
   "id": "3c268644",
   "metadata": {},
   "outputs": [],
   "source": [
    "import pandas as pd\n",
    "import numpy as np\n",
    "import matplotlib.pyplot as plt"
   ]
  },
  {
   "cell_type": "code",
   "execution_count": null,
   "id": "57f40f73",
   "metadata": {},
   "outputs": [],
   "source": [
    "# Histogram verilerini tanımlayalım\n",
    "histogram_data = {\n",
    "    100: 12,101: 18,102: 32,103: 48,104: 52,105: 65,106: 55,107: 42,108: 32,109: 16,\n",
    "    110: 10,140: 5,141: 18,142: 25,143: 32,144: 40,145: 65,146: 43,147: 32,148: 20,149: 10,150: 4\n",
    "}"
   ]
  },
  {
   "cell_type": "code",
   "execution_count": null,
   "id": "584e49a4",
   "metadata": {},
   "outputs": [],
   "source": [
    "# Histogram verilerini array'e dönüştürme\n",
    "intensity_values = np.array(list(histogram_data.keys()))\n",
    "pixel_counts = np.array(list(histogram_data.values()))"
   ]
  },
  {
   "cell_type": "code",
   "execution_count": null,
   "id": "a7b79a56",
   "metadata": {},
   "outputs": [],
   "source": [
    "# Toplam piksel sayısı\n",
    "total_pixels = np.sum(pixel_counts)"
   ]
  },
  {
   "cell_type": "code",
   "execution_count": null,
   "id": "4a4cfafe",
   "metadata": {},
   "outputs": [],
   "source": [
    "# Piksel yoğunluklarını normalize etme (PDF)\n",
    "pdf = pixel_counts / total_pixels"
   ]
  },
  {
   "cell_type": "code",
   "execution_count": null,
   "id": "6605066b",
   "metadata": {},
   "outputs": [],
   "source": [
    "# Kümülatif dağılım fonksiyonu (CDF)\n",
    "cdf = np.cumsum(pdf)"
   ]
  },
  {
   "cell_type": "code",
   "execution_count": null,
   "id": "2dc73ef5",
   "metadata": {},
   "outputs": [],
   "source": [
    "# Otsu eşikleme için hesaplamalar\n",
    "within_class_variance = np.zeros_like(intensity_values, dtype=float)\n",
    "for i, t in enumerate(intensity_values):\n",
    "    # Background (sınıf 1) ve foreground (sınıf 2) olasılıkları\n",
    "    p1 = cdf[i]\n",
    "    p2 = 1 - p1\n",
    "\n",
    "    # Background ve foreground ortalamaları\n",
    "    mu1 = np.sum(intensity_values[:i + 1] * pdf[:i + 1]) / p1 if p1 > 0 else 0\n",
    "    mu2 = np.sum(intensity_values[i + 1:] * pdf[i + 1:]) / p2 if p2 > 0 else 0\n",
    "\n",
    "    # Background ve foreground varyansları\n",
    "    var1 = np.sum(((intensity_values[:i + 1] - mu1) ** 2) * pdf[:i + 1]) / p1 if p1 > 0 else 0\n",
    "    var2 = np.sum(((intensity_values[i + 1:] - mu2) ** 2) * pdf[i + 1:]) / p2 if p2 > 0 else 0\n",
    "\n",
    "    # Sınıf içi varyans\n",
    "    within_class_variance[i] = p1 * var1 + p2 * var2"
   ]
  },
  {
   "cell_type": "code",
   "execution_count": null,
   "id": "5d479344",
   "metadata": {},
   "outputs": [],
   "source": [
    "# En düşük sınıf içi varyansa sahip eşik değeri bulalım\n",
    "optimal_threshold = intensity_values[np.argmin(within_class_variance)]\n",
    "print(f\"Optimal Otsu Threshold: {optimal_threshold}\")"
   ]
  },
  {
   "cell_type": "code",
   "execution_count": null,
   "id": "b4cb5ac2",
   "metadata": {},
   "outputs": [],
   "source": [
    "# Excel dosyasını okuyalım\n",
    "file_path = 'matris_files/soru1_2_data.xlsx'\n",
    "data = pd.read_excel(file_path, header=None)"
   ]
  },
  {
   "cell_type": "code",
   "execution_count": null,
   "id": "84529feb",
   "metadata": {},
   "outputs": [],
   "source": [
    "# Veriyi 2D numpy array'e dönüştürelim\n",
    "matrix = data.values"
   ]
  },
  {
   "cell_type": "code",
   "execution_count": null,
   "id": "2b8105e4",
   "metadata": {},
   "outputs": [],
   "source": [
    "# Otsu eşik değerini matrise uygulayalım\n",
    "binary_matrix = (matrix >= optimal_threshold).astype(int)"
   ]
  },
  {
   "cell_type": "code",
   "execution_count": null,
   "id": "e1d3faa1",
   "metadata": {},
   "outputs": [],
   "source": [
    "# Orijinal ve binary görüntüleri gösterelim\n",
    "fig, ax = plt.subplots(1, 2, figsize=(12, 6))\n",
    "ax[0].imshow(matrix, cmap='gray')\n",
    "ax[0].set_title('Original Gray Scale Image')\n",
    "ax[1].imshow(binary_matrix, cmap='gray')\n",
    "ax[1].set_title('Binary Image after Otsu Thresholding')\n",
    "plt.show()"
   ]
  },
  {
   "cell_type": "code",
   "execution_count": null,
   "id": "86361594",
   "metadata": {},
   "outputs": [],
   "source": [
    "# Background ve foreground için hesaplamalar\n",
    "threshold = optimal_threshold\n",
    "background_pixels = pixel_counts[intensity_values <= threshold]\n",
    "foreground_pixels = pixel_counts[intensity_values > threshold]"
   ]
  },
  {
   "cell_type": "code",
   "execution_count": null,
   "id": "35eebb71",
   "metadata": {},
   "outputs": [],
   "source": [
    "# Background için hesaplamalar\n",
    "wb = np.sum(background_pixels) / total_pixels\n",
    "mb = np.sum(intensity_values[intensity_values <= threshold] * background_pixels) / np.sum(background_pixels)\n",
    "vb = np.sum(((intensity_values[intensity_values <= threshold] - mb) ** 2) * background_pixels) / np.sum(\n",
    "    background_pixels)"
   ]
  },
  {
   "cell_type": "code",
   "execution_count": null,
   "id": "9437684a",
   "metadata": {},
   "outputs": [],
   "source": [
    "# Foreground için hesaplamalar\n",
    "wf = np.sum(foreground_pixels) / total_pixels\n",
    "mf = np.sum(intensity_values[intensity_values > threshold] * foreground_pixels) / np.sum(foreground_pixels)\n",
    "vf = np.sum(((intensity_values[intensity_values > threshold] - mf) ** 2) * foreground_pixels) / np.sum(\n",
    "    foreground_pixels)"
   ]
  },
  {
   "cell_type": "code",
   "execution_count": null,
   "id": "13d7316a",
   "metadata": {},
   "outputs": [],
   "source": [
    "print(f\"Background Weight (Wb): {wb}\")\n",
    "print(f\"Background Mean (Mb): {mb}\")\n",
    "print(f\"Background Variance (Vb): {vb}\")\n",
    "print(f\"Foreground Weight (Wf): {wf}\")\n",
    "print(f\"Foreground Mean (Mf): {mf}\")\n",
    "print(f\"Foreground Variance (Vf): {vf}\")"
   ]
  },
  {
   "cell_type": "code",
   "execution_count": null,
   "id": "fe393795",
   "metadata": {},
   "outputs": [],
   "source": [
    "# Hesaplama sonuçlarını ve histogramları gösterelim\n",
    "fig, axs = plt.subplots(2, 2, figsize=(12, 12))\n",
    "axs[0, 0].bar(intensity_values, pixel_counts)\n",
    "axs[0, 0].set_title('Histogram')\n",
    "axs[0, 1].imshow(matrix, cmap='gray')\n",
    "axs[0, 1].set_title('Original Gray Scale Image')\n",
    "axs[1, 0].bar(intensity_values[intensity_values <= threshold], background_pixels)\n",
    "axs[1, 0].set_title('Background Histogram')\n",
    "axs[1, 1].bar(intensity_values[intensity_values > threshold], foreground_pixels)\n",
    "axs[1, 1].set_title('Foreground Histogram')\n",
    "plt.show()"
   ]
  },
  {
   "cell_type": "code",
   "execution_count": null,
   "id": "5848ea95",
   "metadata": {},
   "outputs": [],
   "source": [
    "# Sınıf içi varyansların grafiği\n",
    "plt.figure(figsize=(10, 6))\n",
    "plt.plot(intensity_values, within_class_variance, label='Within Class Variance')\n",
    "plt.axvline(x=optimal_threshold, color='r', linestyle='--', label=f'Optimal Threshold = {optimal_threshold}')\n",
    "plt.xlabel('Intensity Value')\n",
    "plt.ylabel('Within Class Variance')\n",
    "plt.title('Within Class Variance for Each Threshold')\n",
    "plt.legend()\n",
    "plt.show()"
   ]
  }
 ],
 "metadata": {
  "jupytext": {
   "cell_metadata_filter": "-all",
   "main_language": "python",
   "notebook_metadata_filter": "-all"
  }
 },
 "nbformat": 4,
 "nbformat_minor": 5
}
